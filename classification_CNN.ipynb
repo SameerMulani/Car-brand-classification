{
  "cells": [
    {
      "cell_type": "code",
      "execution_count": null,
      "metadata": {
        "id": "OYFr903cBcMr"
      },
      "outputs": [],
      "source": [
        "import tensorflow as tf\n",
        "from tensorflow.keras import layers,models\n",
        "import matplotlib.pyplot as plt\n",
        "from tensorflow.keras.applications.resnet50 import ResNet50\n",
        "\n"
      ]
    },
    {
      "cell_type": "code",
      "execution_count": null,
      "metadata": {
        "colab": {
          "base_uri": "https://localhost:8080/"
        },
        "id": "ij3irUEpCl2N",
        "outputId": "12b1ff01-1968-4051-afbe-e4bf8aff8210"
      },
      "outputs": [
        {
          "name": "stdout",
          "output_type": "stream",
          "text": [
            "Mounted at /content/drive\n"
          ]
        }
      ],
      "source": [
        "from google.colab import drive\n",
        "drive.mount('/content/drive')"
      ]
    },
    {
      "cell_type": "code",
      "execution_count": null,
      "metadata": {
        "id": "vwdx6IPYDGBD"
      },
      "outputs": [],
      "source": [
        "train = '/content/drive/MyDrive/Train'\n",
        "test = '/content/drive/MyDrive/Test'"
      ]
    },
    {
      "cell_type": "code",
      "execution_count": null,
      "metadata": {
        "id": "jOLjxgB8Dnd7"
      },
      "outputs": [],
      "source": [
        "IMAGE_SIZE = [224,224]  #BEST suited for resnet50 algorithm"
      ]
    },
    {
      "cell_type": "code",
      "execution_count": null,
      "metadata": {
        "colab": {
          "base_uri": "https://localhost:8080/"
        },
        "id": "eK3z71GmDJ6B",
        "outputId": "0d2a0190-d310-408a-d87c-c1ec26f922bf"
      },
      "outputs": [
        {
          "name": "stdout",
          "output_type": "stream",
          "text": [
            "Downloading data from https://storage.googleapis.com/tensorflow/keras-applications/resnet/resnet50_weights_tf_dim_ordering_tf_kernels_notop.h5\n",
            "94765736/94765736 [==============================] - 1s 0us/step\n"
          ]
        }
      ],
      "source": [
        "#initializing resnet 50 library\n",
        "#weights used is imagenet\n",
        "resnet = ResNet50(input_shape=IMAGE_SIZE + [3],weights='imagenet',include_top=False)\n",
        "                                           #3 channel             #as we are providing our own dataset in the top layer\n",
        "\n"
      ]
    },
    {
      "cell_type": "code",
      "execution_count": null,
      "metadata": {
        "id": "GFeGcT4vEQLd"
      },
      "outputs": [],
      "source": [
        "for layer in resnet.layers:\n",
        "  layer.trainable = False   #not training our images"
      ]
    },
    {
      "cell_type": "code",
      "execution_count": null,
      "metadata": {
        "colab": {
          "base_uri": "https://localhost:8080/"
        },
        "id": "K7ykyQeSEsga",
        "outputId": "b9fcb6a0-cfd3-4353-cbac-dc9a20a4805f"
      },
      "outputs": [
        {
          "data": {
            "text/plain": [
              "['/content/drive/MyDrive/Train/audi',\n",
              " '/content/drive/MyDrive/Train/lamborghini',\n",
              " '/content/drive/MyDrive/Train/mercedes']"
            ]
          },
          "execution_count": 10,
          "metadata": {},
          "output_type": "execute_result"
        }
      ],
      "source": [
        "from glob import glob\n",
        "folders = glob('/content/drive/MyDrive/Train/*')   #to identify how many classes are present\n",
        "folders"
      ]
    },
    {
      "cell_type": "code",
      "execution_count": null,
      "metadata": {
        "id": "pogRMhmXFL1P"
      },
      "outputs": [],
      "source": [
        "#Falttening our output for further ann step\n",
        "x = layers.Flatten()(resnet.output)\n"
      ]
    },
    {
      "cell_type": "code",
      "execution_count": null,
      "metadata": {
        "id": "xJYRvexcFllj"
      },
      "outputs": [],
      "source": [
        "prediction = layers.Dense(len(folders),activation='softmax')(x)  #last layer of ann\n",
        "\n",
        "#creating a model object\n",
        "model = models.Model(inputs=resnet.input,outputs=prediction)\n",
        "#input layer and output layer"
      ]
    },
    {
      "cell_type": "code",
      "execution_count": null,
      "metadata": {
        "id": "uDt6dS2GGmZL"
      },
      "outputs": [],
      "source": [
        "#compiling the model\n",
        "model.compile(loss='categorical_crossentropy',\n",
        "              optimizer='adam',\n",
        "              metrics=['accuracy'])\n"
      ]
    },
    {
      "cell_type": "code",
      "execution_count": null,
      "metadata": {
        "id": "fUUkSbYxG4uP"
      },
      "outputs": [],
      "source": [
        "from tensorflow.keras.preprocessing.image import ImageDataGenerator\n",
        "#image generator reads the images from the folder and performs data augmentation\n",
        "\n",
        "train_datagen = ImageDataGenerator( rescale=1./255,  #rescaled to /255 as we want our pixel values btw 0&1\n",
        "                                   shear_range=0.2,\n",
        "                                   zoom_range = 0.2,\n",
        "                                   horizontal_flip = True)   #image augmentation,\n",
        "\n",
        "test_datagen = ImageDataGenerator(rescale = 1./255)  #test data is not to be augmented because we need to test it\n"
      ]
    },
    {
      "cell_type": "code",
      "execution_count": null,
      "metadata": {
        "colab": {
          "base_uri": "https://localhost:8080/"
        },
        "id": "g3-dWQG4HQTB",
        "outputId": "1fce513d-220b-4d28-d46f-373dace711c1"
      },
      "outputs": [
        {
          "name": "stdout",
          "output_type": "stream",
          "text": [
            "Found 64 images belonging to 3 classes.\n"
          ]
        }
      ],
      "source": [
        "#reading the images in the train folder and resizing it\n",
        "#basically applying all the data augmentation mentioned above\n",
        "train_set = train_datagen.flow_from_directory(train,     #folder name\n",
        "                                              target_size = (224,224),   #resize to 64x64\n",
        "                                              batch_size=32,\n",
        "                                              class_mode = 'categorical')  #categorical: as there are more than 3 classes\n",
        "                                              #if 2 classes then use 'binary'"
      ]
    },
    {
      "cell_type": "code",
      "execution_count": null,
      "metadata": {
        "colab": {
          "base_uri": "https://localhost:8080/"
        },
        "id": "9mWtsyclHgoQ",
        "outputId": "0fb5cb89-4310-40d8-a315-893150ab1dd8"
      },
      "outputs": [
        {
          "name": "stdout",
          "output_type": "stream",
          "text": [
            "Found 58 images belonging to 3 classes.\n"
          ]
        }
      ],
      "source": [
        "test_set = test_datagen.flow_from_directory(test,\n",
        "                                            target_size = (224,224),\n",
        "                                            batch_size = 32,\n",
        "                                            class_mode = 'categorical')"
      ]
    },
    {
      "cell_type": "code",
      "execution_count": null,
      "metadata": {
        "colab": {
          "base_uri": "https://localhost:8080/"
        },
        "id": "2iBKLOORHucX",
        "outputId": "7c73bd81-2f0e-43c3-9637-a399fb03944c"
      },
      "outputs": [
        {
          "name": "stderr",
          "output_type": "stream",
          "text": [
            "/usr/local/lib/python3.7/dist-packages/ipykernel_launcher.py:7: UserWarning: `Model.fit_generator` is deprecated and will be removed in a future version. Please use `Model.fit`, which supports generators.\n",
            "  import sys\n"
          ]
        },
        {
          "name": "stdout",
          "output_type": "stream",
          "text": [
            "Epoch 1/10\n",
            "2/2 [==============================] - 45s 26s/step - loss: 4.6705 - accuracy: 0.4219 - val_loss: 10.7056 - val_accuracy: 0.1552\n",
            "Epoch 2/10\n",
            "2/2 [==============================] - 20s 14s/step - loss: 10.0682 - accuracy: 0.2500 - val_loss: 4.0354 - val_accuracy: 0.5172\n",
            "Epoch 3/10\n",
            "2/2 [==============================] - 20s 14s/step - loss: 2.5670 - accuracy: 0.4531 - val_loss: 7.7651 - val_accuracy: 0.3276\n",
            "Epoch 4/10\n",
            "2/2 [==============================] - 20s 14s/step - loss: 6.4593 - accuracy: 0.3906 - val_loss: 8.1668 - val_accuracy: 0.3276\n",
            "Epoch 5/10\n",
            "2/2 [==============================] - 22s 16s/step - loss: 4.7433 - accuracy: 0.3750 - val_loss: 5.7966 - val_accuracy: 0.1552\n",
            "Epoch 6/10\n",
            "2/2 [==============================] - 20s 14s/step - loss: 3.0878 - accuracy: 0.4062 - val_loss: 1.7222 - val_accuracy: 0.5690\n",
            "Epoch 7/10\n",
            "2/2 [==============================] - 20s 14s/step - loss: 2.5097 - accuracy: 0.4062 - val_loss: 2.1890 - val_accuracy: 0.5862\n",
            "Epoch 8/10\n",
            "2/2 [==============================] - 20s 14s/step - loss: 2.8114 - accuracy: 0.5000 - val_loss: 3.2783 - val_accuracy: 0.3276\n",
            "Epoch 9/10\n",
            "2/2 [==============================] - 22s 16s/step - loss: 2.2643 - accuracy: 0.4219 - val_loss: 1.6921 - val_accuracy: 0.3276\n",
            "Epoch 10/10\n",
            "2/2 [==============================] - 21s 14s/step - loss: 1.2139 - accuracy: 0.5312 - val_loss: 2.0445 - val_accuracy: 0.4138\n"
          ]
        }
      ],
      "source": [
        "#Fitting the model:\n",
        "f = model.fit_generator(\n",
        "    train_set,\n",
        "    validation_data=test_set,\n",
        "    epochs=10,\n",
        "    steps_per_epoch = len(train_set),\n",
        "    validation_steps=len(test_set)\n",
        ")"
      ]
    },
    {
      "cell_type": "code",
      "execution_count": null,
      "metadata": {
        "colab": {
          "base_uri": "https://localhost:8080/",
          "height": 265
        },
        "id": "KNH85vR9Kz9a",
        "outputId": "b944508e-fbe9-450d-acbe-41b8d7015ed2"
      },
      "outputs": [
        {
          "data": {
            "image/png": "[encoded data removed]",
            "text/plain": [
              "<Figure size 432x288 with 1 Axes>"
            ]
          },
          "metadata": {
            "needs_background": "light"
          },
          "output_type": "display_data"
        }
      ],
      "source": [
        "#plotting the loss (training accuracy)\n",
        "plt.plot(f.history['loss'],label='train loss')\n",
        "plt.plot(f.history['val_loss'],label='val loss')\n",
        "plt.legend()\n",
        "plt.show()"
      ]
    },
    {
      "cell_type": "code",
      "execution_count": null,
      "metadata": {
        "colab": {
          "base_uri": "https://localhost:8080/",
          "height": 266
        },
        "id": "Z9Y4OceQLWjy",
        "outputId": "5c8435c9-17f2-4116-ad3a-1ffd2b1c7673"
      },
      "outputs": [
        {
          "data": {
            "image/png": "[encoded data removed]",
            "text/plain": [
              "<Figure size 432x288 with 1 Axes>"
            ]
          },
          "metadata": {
            "needs_background": "light"
          },
          "output_type": "display_data"
        }
      ],
      "source": [
        "#Testing accuracy:\n",
        "plt.plot(f.history['accuracy'],label='train acc')\n",
        "plt.plot(f.history['val_accuracy'],label='val acc')\n",
        "plt.legend()\n",
        "plt.show()"
      ]
    },
    {
      "cell_type": "code",
      "execution_count": null,
      "metadata": {
        "id": "sMLX5vReMXjJ"
      },
      "outputs": [],
      "source": [
        "from tensorflow.keras.models import load_model\n",
        "model.save('cnn_resnet50.h5')"
      ]
    },
    {
      "cell_type": "code",
      "execution_count": null,
      "metadata": {
        "colab": {
          "base_uri": "https://localhost:8080/"
        },
        "id": "PsoblPMUOPQ1",
        "outputId": "2dd5ba7d-9d5f-43a9-ce6f-8185c42b00fa"
      },
      "outputs": [
        {
          "name": "stdout",
          "output_type": "stream",
          "text": [
            "2/2 [==============================] - 15s 5s/step\n"
          ]
        },
        {
          "data": {
            "text/plain": [
              "array([[7.73051381e-02, 9.18987393e-01, 3.70750157e-03],\n",
              "       [7.91429341e-01, 2.07654476e-01, 9.16153775e-04],\n",
              "       [5.71119726e-01, 4.28189695e-01, 6.90464280e-04],\n",
              "       [9.08583283e-01, 8.96982402e-02, 1.71844417e-03],\n",
              "       [6.63046122e-01, 3.35547894e-01, 1.40603387e-03],\n",
              "       [5.12519360e-01, 4.84550387e-01, 2.93032383e-03],\n",
              "       [3.35466743e-01, 6.63670123e-01, 8.63169145e-04],\n",
              "       [7.28305578e-01, 2.71358997e-01, 3.35357443e-04],\n",
              "       [4.23322737e-01, 5.75268269e-01, 1.40908279e-03],\n",
              "       [9.67938364e-01, 3.14165354e-02, 6.45075575e-04],\n",
              "       [9.36860979e-01, 6.10578395e-02, 2.08104867e-03],\n",
              "       [3.92471641e-01, 6.06370628e-01, 1.15767599e-03],\n",
              "       [4.94368106e-01, 1.09462425e-01, 3.96169424e-01],\n",
              "       [2.91219592e-01, 7.05426872e-01, 3.35357594e-03],\n",
              "       [5.35031438e-01, 4.63431805e-01, 1.53675780e-03],\n",
              "       [1.13346092e-01, 8.86096776e-01, 5.57164836e-04],\n",
              "       [1.15377210e-01, 8.55922878e-01, 2.86999010e-02],\n",
              "       [8.95586252e-01, 8.95747691e-02, 1.48389852e-02],\n",
              "       [4.10662681e-01, 5.72895169e-01, 1.64420865e-02],\n",
              "       [5.41584015e-01, 3.54969531e-01, 1.03446394e-01],\n",
              "       [9.15131629e-01, 8.28610659e-02, 2.00725254e-03],\n",
              "       [9.26062703e-01, 4.10122499e-02, 3.29249911e-02],\n",
              "       [7.71143973e-01, 2.27835402e-01, 1.02065259e-03],\n",
              "       [5.65614164e-01, 4.31430638e-01, 2.95519712e-03],\n",
              "       [1.14293866e-01, 8.84868503e-01, 8.37608415e-04],\n",
              "       [3.69731188e-01, 6.29974842e-01, 2.93956080e-04],\n",
              "       [9.81505930e-01, 1.83210820e-02, 1.73105946e-04],\n",
              "       [5.62088370e-01, 4.31878179e-01, 6.03344850e-03],\n",
              "       [1.21927954e-01, 8.76519799e-01, 1.55227468e-03],\n",
              "       [9.74681556e-01, 4.52811690e-03, 2.07904689e-02],\n",
              "       [1.76159248e-01, 8.06385100e-01, 1.74554661e-02],\n",
              "       [3.82769048e-01, 6.14808977e-01, 2.42203823e-03],\n",
              "       [1.37871280e-01, 8.60508442e-01, 1.62010721e-03],\n",
              "       [5.50462008e-01, 4.06325191e-01, 4.32127044e-02],\n",
              "       [3.25076610e-01, 6.73621893e-01, 1.30149536e-03],\n",
              "       [8.11018050e-01, 1.80299982e-01, 8.68193060e-03],\n",
              "       [3.87859493e-01, 5.96325397e-01, 1.58151239e-02],\n",
              "       [8.28459978e-01, 7.69438222e-02, 9.45961326e-02],\n",
              "       [7.89572954e-01, 1.84675351e-01, 2.57516820e-02],\n",
              "       [8.52181375e-01, 1.47536173e-01, 2.82422436e-04],\n",
              "       [2.38732532e-01, 7.60409355e-01, 8.58058396e-04],\n",
              "       [4.60315406e-01, 5.37127495e-01, 2.55714427e-03],\n",
              "       [1.48503304e-01, 8.50568175e-01, 9.28477093e-04],\n",
              "       [2.95408666e-01, 7.03479230e-01, 1.11207576e-03],\n",
              "       [7.78903365e-01, 1.94098968e-02, 2.01686695e-01],\n",
              "       [3.77127677e-01, 6.18624091e-01, 4.24825726e-03],\n",
              "       [8.91378224e-01, 1.96414273e-02, 8.89803544e-02],\n",
              "       [8.36932123e-01, 1.61961153e-01, 1.10661041e-03],\n",
              "       [5.69015443e-01, 4.28459495e-01, 2.52506998e-03],\n",
              "       [3.01457912e-01, 6.97320342e-01, 1.22170872e-03],\n",
              "       [3.98739837e-02, 3.34320366e-02, 9.26693916e-01],\n",
              "       [5.41994750e-01, 4.56915766e-01, 1.08945568e-03],\n",
              "       [2.21858531e-01, 7.77800977e-01, 3.40488128e-04],\n",
              "       [1.00059345e-01, 8.24073388e-04, 8.99116516e-01],\n",
              "       [4.98647541e-01, 4.96405154e-01, 4.94725723e-03],\n",
              "       [8.80156681e-02, 9.11771297e-01, 2.13040970e-04],\n",
              "       [2.48728469e-01, 7.49309897e-01, 1.96168525e-03],\n",
              "       [2.78375596e-01, 7.00318515e-01, 2.13058274e-02]], dtype=float32)"
            ]
          },
          "execution_count": 23,
          "metadata": {},
          "output_type": "execute_result"
        }
      ],
      "source": [
        "#checking the predictions:\n",
        "y_pred = model.predict(test_set)\n",
        "y_pred"
      ]
    },
    {
      "cell_type": "code",
      "execution_count": null,
      "metadata": {
        "colab": {
          "base_uri": "https://localhost:8080/"
        },
        "id": "LbkNOR72OfUz",
        "outputId": "8757269c-e0de-4d88-d7e9-97f509cd64a2"
      },
      "outputs": [
        {
          "data": {
            "text/plain": [
              "array([1, 0, 0, 0, 0, 0, 1, 0, 1, 0, 0, 1, 0, 1, 0, 1, 1, 0, 1, 0, 0, 0,\n",
              "       0, 0, 1, 1, 0, 0, 1, 0, 1, 1, 1, 0, 1, 0, 1, 0, 0, 0, 1, 1, 1, 1,\n",
              "       0, 1, 0, 0, 0, 1, 2, 0, 1, 2, 0, 1, 1, 1])"
            ]
          },
          "execution_count": 24,
          "metadata": {},
          "output_type": "execute_result"
        }
      ],
      "source": [
        "import numpy as np\n",
        "y_pred = np.argmax(y_pred,axis=1)\n",
        "y_pred"
      ]
    }
  ],
  "metadata": {
    "colab": {
      "provenance": []
    },
    "kernelspec": {
      "display_name": "Python 3",
      "name": "python3"
    },
    "language_info": {
      "name": "python"
    }
  },
  "nbformat": 4,
  "nbformat_minor": 0
}
